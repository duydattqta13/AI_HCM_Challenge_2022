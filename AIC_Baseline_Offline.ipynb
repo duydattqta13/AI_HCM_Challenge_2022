{
  "cells": [
    {
      "cell_type": "markdown",
      "id": "5fcc581b",
      "metadata": {
        "id": "5fcc581b"
      },
      "source": [
        "# Hướng dẫn truy vấn dữ liệu thị giác dùng fiftyone\n",
        "\n",
        "Đây là hướng dẫn dùng cho các đội tham dự AI Challenge 2022. Hướng dẫn này nhầm mục đích giới thiệu cho các đội một phương pháp cơ bản để truy vấn dữ liệu dựa trên thông tin BTC cung cấp và giới thiệu công cụ fiftyone để hỗ trợ đội thi đánh giá kết quả.\n",
        "\n",
        "### Cài đặt ban đầu\n",
        "\n",
        "Cài đặt fiftyone"
      ]
    },
    {
      "cell_type": "code",
      "execution_count": null,
      "id": "f5a576d0",
      "metadata": {
        "colab": {
          "base_uri": "https://localhost:8080/"
        },
        "id": "f5a576d0",
        "outputId": "6940ff9f-4566-49d5-d9e7-c638321dadc1"
      },
      "outputs": [
        {
          "output_type": "stream",
          "name": "stdout",
          "text": [
            "Looking in indexes: https://pypi.org/simple, https://us-python.pkg.dev/colab-wheels/public/simple/\n",
            "Requirement already satisfied: fiftyone in /usr/local/lib/python3.7/dist-packages (0.17.2)\n",
            "Requirement already satisfied: argcomplete in /usr/local/lib/python3.7/dist-packages (from fiftyone) (2.0.0)\n",
            "Requirement already satisfied: matplotlib in /usr/local/lib/python3.7/dist-packages (from fiftyone) (3.2.2)\n",
            "Requirement already satisfied: PyYAML in /usr/local/lib/python3.7/dist-packages (from fiftyone) (6.0)\n",
            "Requirement already satisfied: boto3 in /usr/local/lib/python3.7/dist-packages (from fiftyone) (1.24.95)\n",
            "Requirement already satisfied: plotly>=4.14 in /usr/local/lib/python3.7/dist-packages (from fiftyone) (5.5.0)\n",
            "Requirement already satisfied: pymongo<4,>=3.11 in /usr/local/lib/python3.7/dist-packages (from fiftyone) (3.12.3)\n",
            "Requirement already satisfied: sse-starlette<1,>=0.10.3 in /usr/local/lib/python3.7/dist-packages (from fiftyone) (0.10.3)\n",
            "Requirement already satisfied: sseclient-py<2,>=1.7.2 in /usr/local/lib/python3.7/dist-packages (from fiftyone) (1.7.2)\n",
            "Requirement already satisfied: eventlet in /usr/local/lib/python3.7/dist-packages (from fiftyone) (0.33.1)\n",
            "Requirement already satisfied: scikit-learn in /usr/local/lib/python3.7/dist-packages (from fiftyone) (1.0.2)\n",
            "Requirement already satisfied: strawberry-graphql==0.96.0 in /usr/local/lib/python3.7/dist-packages (from fiftyone) (0.96.0)\n",
            "Requirement already satisfied: pytz in /usr/local/lib/python3.7/dist-packages (from fiftyone) (2022.4)\n",
            "Requirement already satisfied: voxel51-eta<0.9,>=0.8.1 in /usr/local/lib/python3.7/dist-packages (from fiftyone) (0.8.1)\n",
            "Requirement already satisfied: hypercorn>=0.13.2 in /usr/local/lib/python3.7/dist-packages (from fiftyone) (0.14.3)\n",
            "Requirement already satisfied: ndjson in /usr/local/lib/python3.7/dist-packages (from fiftyone) (0.3.1)\n",
            "Requirement already satisfied: setuptools in /usr/local/lib/python3.7/dist-packages (from fiftyone) (57.4.0)\n",
            "Requirement already satisfied: starlette==0.16.0 in /usr/local/lib/python3.7/dist-packages (from fiftyone) (0.16.0)\n",
            "Requirement already satisfied: tabulate in /usr/local/lib/python3.7/dist-packages (from fiftyone) (0.8.10)\n",
            "Requirement already satisfied: pandas in /usr/local/lib/python3.7/dist-packages (from fiftyone) (1.3.5)\n",
            "Requirement already satisfied: fiftyone-db<0.4,>=0.3 in /usr/local/lib/python3.7/dist-packages (from fiftyone) (0.3.0)\n",
            "Requirement already satisfied: Pillow>=6.2 in /usr/local/lib/python3.7/dist-packages (from fiftyone) (7.1.2)\n",
            "Requirement already satisfied: pprintpp in /usr/local/lib/python3.7/dist-packages (from fiftyone) (0.4.0)\n",
            "Requirement already satisfied: future in /usr/local/lib/python3.7/dist-packages (from fiftyone) (0.16.0)\n",
            "Requirement already satisfied: retrying in /usr/local/lib/python3.7/dist-packages (from fiftyone) (1.3.3)\n",
            "Requirement already satisfied: numpy in /usr/local/lib/python3.7/dist-packages (from fiftyone) (1.21.6)\n",
            "Requirement already satisfied: packaging in /usr/local/lib/python3.7/dist-packages (from fiftyone) (21.3)\n",
            "Requirement already satisfied: fiftyone-brain<0.10,>=0.9.1 in /usr/local/lib/python3.7/dist-packages (from fiftyone) (0.9.1)\n",
            "Requirement already satisfied: psutil in /usr/local/lib/python3.7/dist-packages (from fiftyone) (5.4.8)\n",
            "Requirement already satisfied: xmltodict in /usr/local/lib/python3.7/dist-packages (from fiftyone) (0.13.0)\n",
            "Requirement already satisfied: scikit-image in /usr/local/lib/python3.7/dist-packages (from fiftyone) (0.18.3)\n",
            "Requirement already satisfied: universal-analytics-python3<2,>=1.0.1 in /usr/local/lib/python3.7/dist-packages (from fiftyone) (1.1.1)\n",
            "Requirement already satisfied: kaleido in /usr/local/lib/python3.7/dist-packages (from fiftyone) (0.2.1)\n",
            "Requirement already satisfied: opencv-python-headless in /usr/local/lib/python3.7/dist-packages (from fiftyone) (4.6.0.66)\n",
            "Requirement already satisfied: dacite>=1.6.0 in /usr/local/lib/python3.7/dist-packages (from fiftyone) (1.6.0)\n",
            "Requirement already satisfied: motor<3,>=2.3 in /usr/local/lib/python3.7/dist-packages (from fiftyone) (2.5.1)\n",
            "Requirement already satisfied: Jinja2>=3 in /usr/local/lib/python3.7/dist-packages (from fiftyone) (3.1.2)\n",
            "Requirement already satisfied: Deprecated in /usr/local/lib/python3.7/dist-packages (from fiftyone) (1.2.13)\n",
            "Requirement already satisfied: mongoengine==0.20.0 in /usr/local/lib/python3.7/dist-packages (from fiftyone) (0.20.0)\n",
            "Requirement already satisfied: aiofiles in /usr/local/lib/python3.7/dist-packages (from fiftyone) (22.1.0)\n",
            "Requirement already satisfied: typing-extensions in /usr/local/lib/python3.7/dist-packages (from starlette==0.16.0->fiftyone) (4.1.1)\n",
            "Requirement already satisfied: anyio<4,>=3.0.0 in /usr/local/lib/python3.7/dist-packages (from starlette==0.16.0->fiftyone) (3.6.2)\n",
            "Requirement already satisfied: graphql-core<3.2.0,>=3.1.0 in /usr/local/lib/python3.7/dist-packages (from strawberry-graphql==0.96.0->fiftyone) (3.1.7)\n",
            "Requirement already satisfied: pygments<3.0,>=2.3 in /usr/local/lib/python3.7/dist-packages (from strawberry-graphql==0.96.0->fiftyone) (2.6.1)\n",
            "Requirement already satisfied: python-dateutil<3.0.0,>=2.7.0 in /usr/local/lib/python3.7/dist-packages (from strawberry-graphql==0.96.0->fiftyone) (2.8.2)\n",
            "Requirement already satisfied: sentinel<0.4.0,>=0.3.0 in /usr/local/lib/python3.7/dist-packages (from strawberry-graphql==0.96.0->fiftyone) (0.3.0)\n",
            "Requirement already satisfied: python-multipart<0.0.6,>=0.0.5 in /usr/local/lib/python3.7/dist-packages (from strawberry-graphql==0.96.0->fiftyone) (0.0.5)\n",
            "Requirement already satisfied: backports.cached-property<2.0.0,>=1.0.1 in /usr/local/lib/python3.7/dist-packages (from strawberry-graphql==0.96.0->fiftyone) (1.0.2)\n",
            "Requirement already satisfied: click<9.0,>=7.0 in /usr/local/lib/python3.7/dist-packages (from strawberry-graphql==0.96.0->fiftyone) (7.1.2)\n",
            "Requirement already satisfied: sniffio>=1.1 in /usr/local/lib/python3.7/dist-packages (from anyio<4,>=3.0.0->starlette==0.16.0->fiftyone) (1.3.0)\n",
            "Requirement already satisfied: idna>=2.8 in /usr/local/lib/python3.7/dist-packages (from anyio<4,>=3.0.0->starlette==0.16.0->fiftyone) (2.10)\n",
            "Requirement already satisfied: scipy>=1.2.0 in /usr/local/lib/python3.7/dist-packages (from fiftyone-brain<0.10,>=0.9.1->fiftyone) (1.7.3)\n",
            "Requirement already satisfied: h11 in /usr/local/lib/python3.7/dist-packages (from hypercorn>=0.13.2->fiftyone) (0.12.0)\n",
            "Requirement already satisfied: wsproto>=0.14.0 in /usr/local/lib/python3.7/dist-packages (from hypercorn>=0.13.2->fiftyone) (1.2.0)\n",
            "Requirement already satisfied: h2>=3.1.0 in /usr/local/lib/python3.7/dist-packages (from hypercorn>=0.13.2->fiftyone) (4.1.0)\n",
            "Requirement already satisfied: priority in /usr/local/lib/python3.7/dist-packages (from hypercorn>=0.13.2->fiftyone) (2.0.0)\n",
            "Requirement already satisfied: toml in /usr/local/lib/python3.7/dist-packages (from hypercorn>=0.13.2->fiftyone) (0.10.2)\n",
            "Requirement already satisfied: hyperframe<7,>=6.0 in /usr/local/lib/python3.7/dist-packages (from h2>=3.1.0->hypercorn>=0.13.2->fiftyone) (6.0.1)\n",
            "Requirement already satisfied: hpack<5,>=4.0 in /usr/local/lib/python3.7/dist-packages (from h2>=3.1.0->hypercorn>=0.13.2->fiftyone) (4.0.0)\n",
            "Requirement already satisfied: MarkupSafe>=2.0 in /usr/local/lib/python3.7/dist-packages (from Jinja2>=3->fiftyone) (2.0.1)\n",
            "Requirement already satisfied: six in /usr/local/lib/python3.7/dist-packages (from plotly>=4.14->fiftyone) (1.15.0)\n",
            "Requirement already satisfied: tenacity>=6.2.0 in /usr/local/lib/python3.7/dist-packages (from plotly>=4.14->fiftyone) (8.1.0)\n",
            "Requirement already satisfied: httpx>=0.10.0 in /usr/local/lib/python3.7/dist-packages (from universal-analytics-python3<2,>=1.0.1->fiftyone) (0.23.0)\n",
            "Requirement already satisfied: httpcore<0.16.0,>=0.15.0 in /usr/local/lib/python3.7/dist-packages (from httpx>=0.10.0->universal-analytics-python3<2,>=1.0.1->fiftyone) (0.15.0)\n",
            "Requirement already satisfied: rfc3986[idna2008]<2,>=1.3 in /usr/local/lib/python3.7/dist-packages (from httpx>=0.10.0->universal-analytics-python3<2,>=1.0.1->fiftyone) (1.5.0)\n",
            "Requirement already satisfied: certifi in /usr/local/lib/python3.7/dist-packages (from httpx>=0.10.0->universal-analytics-python3<2,>=1.0.1->fiftyone) (2022.9.24)\n",
            "Requirement already satisfied: tzlocal in /usr/local/lib/python3.7/dist-packages (from voxel51-eta<0.9,>=0.8.1->fiftyone) (1.5.1)\n",
            "Requirement already satisfied: dill in /usr/local/lib/python3.7/dist-packages (from voxel51-eta<0.9,>=0.8.1->fiftyone) (0.3.5.1)\n",
            "Requirement already satisfied: urllib3 in /usr/local/lib/python3.7/dist-packages (from voxel51-eta<0.9,>=0.8.1->fiftyone) (1.25.11)\n",
            "Requirement already satisfied: importlib-metadata in /usr/local/lib/python3.7/dist-packages (from voxel51-eta<0.9,>=0.8.1->fiftyone) (4.13.0)\n",
            "Requirement already satisfied: glob2 in /usr/local/lib/python3.7/dist-packages (from voxel51-eta<0.9,>=0.8.1->fiftyone) (0.7)\n",
            "Requirement already satisfied: sortedcontainers in /usr/local/lib/python3.7/dist-packages (from voxel51-eta<0.9,>=0.8.1->fiftyone) (2.4.0)\n",
            "Requirement already satisfied: requests in /usr/local/lib/python3.7/dist-packages (from voxel51-eta<0.9,>=0.8.1->fiftyone) (2.23.0)\n",
            "Requirement already satisfied: patool in /usr/local/lib/python3.7/dist-packages (from voxel51-eta<0.9,>=0.8.1->fiftyone) (1.12)\n",
            "Requirement already satisfied: zipp>=0.5 in /usr/local/lib/python3.7/dist-packages (from importlib-metadata->voxel51-eta<0.9,>=0.8.1->fiftyone) (3.9.0)\n",
            "Requirement already satisfied: s3transfer<0.7.0,>=0.6.0 in /usr/local/lib/python3.7/dist-packages (from boto3->fiftyone) (0.6.0)\n",
            "Requirement already satisfied: botocore<1.28.0,>=1.27.95 in /usr/local/lib/python3.7/dist-packages (from boto3->fiftyone) (1.27.95)\n",
            "Requirement already satisfied: jmespath<2.0.0,>=0.7.1 in /usr/local/lib/python3.7/dist-packages (from boto3->fiftyone) (1.0.1)\n",
            "Requirement already satisfied: wrapt<2,>=1.10 in /usr/local/lib/python3.7/dist-packages (from Deprecated->fiftyone) (1.14.1)\n",
            "Requirement already satisfied: greenlet>=0.3 in /usr/local/lib/python3.7/dist-packages (from eventlet->fiftyone) (1.1.3.post0)\n",
            "Requirement already satisfied: dnspython>=1.15.0 in /usr/local/lib/python3.7/dist-packages (from eventlet->fiftyone) (2.2.1)\n",
            "Requirement already satisfied: kiwisolver>=1.0.1 in /usr/local/lib/python3.7/dist-packages (from matplotlib->fiftyone) (1.4.4)\n",
            "Requirement already satisfied: pyparsing!=2.0.4,!=2.1.2,!=2.1.6,>=2.0.1 in /usr/local/lib/python3.7/dist-packages (from matplotlib->fiftyone) (3.0.9)\n",
            "Requirement already satisfied: cycler>=0.10 in /usr/local/lib/python3.7/dist-packages (from matplotlib->fiftyone) (0.11.0)\n",
            "Requirement already satisfied: chardet<4,>=3.0.2 in /usr/local/lib/python3.7/dist-packages (from requests->voxel51-eta<0.9,>=0.8.1->fiftyone) (3.0.4)\n",
            "Requirement already satisfied: PyWavelets>=1.1.1 in /usr/local/lib/python3.7/dist-packages (from scikit-image->fiftyone) (1.3.0)\n",
            "Requirement already satisfied: tifffile>=2019.7.26 in /usr/local/lib/python3.7/dist-packages (from scikit-image->fiftyone) (2021.11.2)\n",
            "Requirement already satisfied: networkx>=2.0 in /usr/local/lib/python3.7/dist-packages (from scikit-image->fiftyone) (2.6.3)\n",
            "Requirement already satisfied: imageio>=2.3.0 in /usr/local/lib/python3.7/dist-packages (from scikit-image->fiftyone) (2.9.0)\n",
            "Requirement already satisfied: threadpoolctl>=2.0.0 in /usr/local/lib/python3.7/dist-packages (from scikit-learn->fiftyone) (3.1.0)\n",
            "Requirement already satisfied: joblib>=0.11 in /usr/local/lib/python3.7/dist-packages (from scikit-learn->fiftyone) (1.2.0)\n"
          ]
        }
      ],
      "source": [
        "! pip install fiftyone"
      ]
    },
    {
      "cell_type": "markdown",
      "id": "864ab5e6",
      "metadata": {
        "id": "864ab5e6"
      },
      "source": [
        "Trong hướng dẫn này, chúng ta sẽ sử dụng CLIP và pytorch"
      ]
    },
    {
      "cell_type": "code",
      "execution_count": null,
      "id": "8df4e3f3",
      "metadata": {
        "colab": {
          "base_uri": "https://localhost:8080/"
        },
        "id": "8df4e3f3",
        "outputId": "fb66a793-ec0e-4921-a6fa-301d1ea0f10e"
      },
      "outputs": [
        {
          "output_type": "stream",
          "name": "stdout",
          "text": [
            "Looking in indexes: https://pypi.org/simple, https://us-python.pkg.dev/colab-wheels/public/simple/\n",
            "Requirement already satisfied: torch in /usr/local/lib/python3.7/dist-packages (1.12.1+cu113)\n",
            "Requirement already satisfied: typing-extensions in /usr/local/lib/python3.7/dist-packages (from torch) (4.1.1)\n",
            "Looking in indexes: https://pypi.org/simple, https://us-python.pkg.dev/colab-wheels/public/simple/\n",
            "Requirement already satisfied: ftfy in /usr/local/lib/python3.7/dist-packages (6.1.1)\n",
            "Requirement already satisfied: regex in /usr/local/lib/python3.7/dist-packages (2022.6.2)\n",
            "Requirement already satisfied: tqdm in /usr/local/lib/python3.7/dist-packages (4.64.1)\n",
            "Requirement already satisfied: wcwidth>=0.2.5 in /usr/local/lib/python3.7/dist-packages (from ftfy) (0.2.5)\n",
            "Looking in indexes: https://pypi.org/simple, https://us-python.pkg.dev/colab-wheels/public/simple/\n",
            "Collecting git+https://github.com/openai/CLIP.git\n",
            "  Cloning https://github.com/openai/CLIP.git to /tmp/pip-req-build-r1zikxcg\n",
            "  Running command git clone -q https://github.com/openai/CLIP.git /tmp/pip-req-build-r1zikxcg\n",
            "Requirement already satisfied: ftfy in /usr/local/lib/python3.7/dist-packages (from clip==1.0) (6.1.1)\n",
            "Requirement already satisfied: regex in /usr/local/lib/python3.7/dist-packages (from clip==1.0) (2022.6.2)\n",
            "Requirement already satisfied: tqdm in /usr/local/lib/python3.7/dist-packages (from clip==1.0) (4.64.1)\n",
            "Requirement already satisfied: torch in /usr/local/lib/python3.7/dist-packages (from clip==1.0) (1.12.1+cu113)\n",
            "Requirement already satisfied: torchvision in /usr/local/lib/python3.7/dist-packages (from clip==1.0) (0.13.1+cu113)\n",
            "Requirement already satisfied: wcwidth>=0.2.5 in /usr/local/lib/python3.7/dist-packages (from ftfy->clip==1.0) (0.2.5)\n",
            "Requirement already satisfied: typing-extensions in /usr/local/lib/python3.7/dist-packages (from torch->clip==1.0) (4.1.1)\n",
            "Requirement already satisfied: numpy in /usr/local/lib/python3.7/dist-packages (from torchvision->clip==1.0) (1.21.6)\n",
            "Requirement already satisfied: pillow!=8.3.*,>=5.3.0 in /usr/local/lib/python3.7/dist-packages (from torchvision->clip==1.0) (7.1.2)\n",
            "Requirement already satisfied: requests in /usr/local/lib/python3.7/dist-packages (from torchvision->clip==1.0) (2.23.0)\n",
            "Requirement already satisfied: urllib3!=1.25.0,!=1.25.1,<1.26,>=1.21.1 in /usr/local/lib/python3.7/dist-packages (from requests->torchvision->clip==1.0) (1.25.11)\n",
            "Requirement already satisfied: chardet<4,>=3.0.2 in /usr/local/lib/python3.7/dist-packages (from requests->torchvision->clip==1.0) (3.0.4)\n",
            "Requirement already satisfied: certifi>=2017.4.17 in /usr/local/lib/python3.7/dist-packages (from requests->torchvision->clip==1.0) (2022.9.24)\n",
            "Requirement already satisfied: idna<3,>=2.5 in /usr/local/lib/python3.7/dist-packages (from requests->torchvision->clip==1.0) (2.10)\n"
          ]
        }
      ],
      "source": [
        "! pip install torch\n",
        "! pip install ftfy regex tqdm\n",
        "! pip install git+https://github.com/openai/CLIP.git"
      ]
    },
    {
      "cell_type": "markdown",
      "id": "fb9afb40",
      "metadata": {
        "id": "fb9afb40"
      },
      "source": [
        "Load dữ liệu keyframe từ thư mục chứa keyframe. Mỗi ảnh và thông tin đi kèm sau này sẽ được lưu trữ trong một Sample. Tất cả các Sample được lưu trong Dataset."
      ]
    },
    {
      "cell_type": "code",
      "source": [
        "from google.colab import drive\n",
        "drive.mount('/gdrive')"
      ],
      "metadata": {
        "colab": {
          "base_uri": "https://localhost:8080/"
        },
        "id": "DH9pdcBMqSju",
        "outputId": "ed548664-aae7-440c-cba1-23a29c6fa893"
      },
      "id": "DH9pdcBMqSju",
      "execution_count": null,
      "outputs": [
        {
          "output_type": "stream",
          "name": "stdout",
          "text": [
            "Drive already mounted at /gdrive; to attempt to forcibly remount, call drive.mount(\"/gdrive\", force_remount=True).\n"
          ]
        }
      ]
    },
    {
      "cell_type": "code",
      "execution_count": null,
      "id": "357d4489",
      "metadata": {
        "colab": {
          "base_uri": "https://localhost:8080/"
        },
        "id": "357d4489",
        "outputId": "c2303d57-82f9-4e06-e17a-9445bbd7a578"
      },
      "outputs": [
        {
          "output_type": "stream",
          "name": "stdout",
          "text": [
            " 100% |█████████████| 26762/26762 [7.7s elapsed, 0s remaining, 4.8K samples/s]       \n"
          ]
        },
        {
          "output_type": "stream",
          "name": "stderr",
          "text": [
            "INFO:eta.core.utils: 100% |█████████████| 26762/26762 [7.7s elapsed, 0s remaining, 4.8K samples/s]       \n"
          ]
        }
      ],
      "source": [
        "import fiftyone as fo\n",
        "import clip\n",
        "import torch\n",
        "import json\n",
        "import numpy as np\n",
        "from glob import glob\n",
        "import os\n",
        "\n",
        "dataset = fo.Dataset.from_images_dir('/gdrive/MyDrive/AI-HCM/Keyframes/KeyFramesC00_V00', name=None, tags=None, recursive=True)"
      ]
    },
    {
      "cell_type": "code",
      "execution_count": null,
      "id": "58be11b8",
      "metadata": {
        "colab": {
          "base_uri": "https://localhost:8080/"
        },
        "id": "58be11b8",
        "outputId": "5990d5a9-0c68-4f27-ba2b-1f33edb968af"
      },
      "outputs": [
        {
          "output_type": "stream",
          "name": "stdout",
          "text": [
            "Session launched. Run `session.show()` to open the App in a cell output.\n"
          ]
        },
        {
          "output_type": "stream",
          "name": "stderr",
          "text": [
            "INFO:fiftyone.core.session.session:Session launched. Run `session.show()` to open the App in a cell output.\n"
          ]
        }
      ],
      "source": [
        "session = fo.launch_app(dataset, auto=False)"
      ]
    },
    {
      "cell_type": "code",
      "execution_count": null,
      "id": "9da8e9ef",
      "metadata": {
        "colab": {
          "base_uri": "https://localhost:8080/"
        },
        "id": "9da8e9ef",
        "outputId": "ee79d6a2-d160-44e3-f504-6f389db09294"
      },
      "outputs": [
        {
          "output_type": "stream",
          "name": "stdout",
          "text": [
            "C00_V0000  C00_V0015  C00_V0030  C00_V0045  C00_V0060  C00_V0075  C00_V0090\n",
            "C00_V0001  C00_V0016  C00_V0031  C00_V0046  C00_V0061  C00_V0076  C00_V0091\n",
            "C00_V0002  C00_V0017  C00_V0032  C00_V0047  C00_V0062  C00_V0077  C00_V0092\n",
            "C00_V0003  C00_V0018  C00_V0033  C00_V0048  C00_V0063  C00_V0078  C00_V0093\n",
            "C00_V0004  C00_V0019  C00_V0034  C00_V0049  C00_V0064  C00_V0079  C00_V0094\n",
            "C00_V0005  C00_V0020  C00_V0035  C00_V0050  C00_V0065  C00_V0080  C00_V0095\n",
            "C00_V0006  C00_V0021  C00_V0036  C00_V0051  C00_V0066  C00_V0081  C00_V0096\n",
            "C00_V0007  C00_V0022  C00_V0037  C00_V0052  C00_V0067  C00_V0082  C00_V0097\n",
            "C00_V0008  C00_V0023  C00_V0038  C00_V0053  C00_V0068  C00_V0083  C00_V0098\n",
            "C00_V0009  C00_V0024  C00_V0039  C00_V0054  C00_V0069  C00_V0084  C00_V0099\n",
            "C00_V0010  C00_V0025  C00_V0040  C00_V0055  C00_V0070  C00_V0085\n",
            "C00_V0011  C00_V0026  C00_V0041  C00_V0056  C00_V0071  C00_V0086\n",
            "C00_V0012  C00_V0027  C00_V0042  C00_V0057  C00_V0072  C00_V0087\n",
            "C00_V0013  C00_V0028  C00_V0043  C00_V0058  C00_V0073  C00_V0088\n",
            "C00_V0014  C00_V0029  C00_V0044  C00_V0059  C00_V0074  C00_V0089\n"
          ]
        }
      ],
      "source": [
        "!ls /gdrive/MyDrive/AI-HCM/Keyframes/KeyFramesC00_V00"
      ]
    },
    {
      "cell_type": "markdown",
      "id": "28298924",
      "metadata": {
        "id": "28298924"
      },
      "source": [
        "Trích xuất thêm thông tin tên của video và frameid"
      ]
    },
    {
      "cell_type": "code",
      "execution_count": null,
      "id": "a8ee02ad",
      "metadata": {
        "id": "a8ee02ad"
      },
      "outputs": [],
      "source": [
        "for sample in dataset:\n",
        "    _, sample['video'], sample['frameid'] = sample['filepath'][:-4].rsplit('/', 2)\n",
        "    sample.save()"
      ]
    },
    {
      "cell_type": "code",
      "execution_count": null,
      "id": "6997ef1c",
      "metadata": {
        "colab": {
          "base_uri": "https://localhost:8080/"
        },
        "id": "6997ef1c",
        "outputId": "362754e8-082a-40b0-bfc7-57bc10651d8e"
      },
      "outputs": [
        {
          "output_type": "stream",
          "name": "stdout",
          "text": [
            "<Sample: {\n",
            "    'id': '6352e1e4b1ce0a6ab0b88ebf',\n",
            "    'media_type': 'image',\n",
            "    'filepath': '/gdrive/.shortcut-targets-by-id/1xsCSYNX8m-R6YuUExgx0G3vtWAmcC6s1/AI-HCM/Keyframes/KeyFramesC00_V00/C00_V0000/000000.jpg',\n",
            "    'tags': [],\n",
            "    'metadata': None,\n",
            "    'video': 'C00_V0000',\n",
            "    'frameid': '000000',\n",
            "}>\n"
          ]
        }
      ],
      "source": [
        "print(dataset.first())"
      ]
    },
    {
      "cell_type": "code",
      "execution_count": null,
      "id": "245ff405",
      "metadata": {
        "id": "245ff405"
      },
      "outputs": [],
      "source": [
        "import json"
      ]
    },
    {
      "cell_type": "markdown",
      "id": "4309a34f",
      "metadata": {
        "id": "4309a34f"
      },
      "source": [
        "Thêm thông tin kết quả của object detection."
      ]
    },
    {
      "cell_type": "code",
      "execution_count": null,
      "id": "ad1c4395",
      "metadata": {
        "id": "ad1c4395"
      },
      "outputs": [],
      "source": [
        "for sample in dataset:\n",
        "    object_path = '/gdrive/MyDrive/AI-HCM/Objects/ObjectsC00_V00/{}.json'.format(sample['filepath'][-20:-4])\n",
        "    with open(object_path) as jsonfile:\n",
        "        det_data = json.load(jsonfile)\n",
        "    detections = []\n",
        "    for cls, box, score in zip(det_data['detection_class_entities'], det_data['detection_boxes'], det_data['detection_scores']):\n",
        "        # Convert to [top-left-x, top-left-y, width, height]\n",
        "        boxf = [float(box[1]), float(box[0]), float(box[3]) - float(box[1]), float(box[2]) - float(box[0])]\n",
        "        scoref = float(score)\n",
        "        \n",
        "        # Only add objects with confidence > 0.4\n",
        "        if scoref > 0.4:\n",
        "            detections.append(\n",
        "                fo.Detection(\n",
        "                    label=cls,\n",
        "                    bounding_box= boxf,\n",
        "                    confidence=float(score)\n",
        "                )\n",
        "            )\n",
        "    sample[\"object_faster_rcnn\"] = fo.Detections(detections=detections)\n",
        "    sample.save()\n",
        "                           "
      ]
    },
    {
      "cell_type": "markdown",
      "id": "e287dbb4",
      "metadata": {
        "id": "e287dbb4"
      },
      "source": [
        "Thêm thông tin CLIP embedding."
      ]
    },
    {
      "cell_type": "code",
      "execution_count": null,
      "id": "58d5d9ca",
      "metadata": {
        "id": "58d5d9ca"
      },
      "outputs": [],
      "source": [
        "all_keyframe = glob('/gdrive/MyDrive/AI-HCM/Keyframes/KeyFramesC00_V00/*/*.jpg')\n",
        "video_keyframe_dict = {}\n",
        "all_video = glob('/gdrive/MyDrive/AI-HCM/Keyframes/KeyFramesC00_V00/*')  \n",
        "all_video = [v.rsplit('/',1)[-1] for v in all_video]"
      ]
    },
    {
      "cell_type": "code",
      "execution_count": null,
      "id": "f33da133",
      "metadata": {
        "id": "f33da133"
      },
      "outputs": [],
      "source": [
        "for kf in all_keyframe:\n",
        "    _, vid, kf = kf[:-4].rsplit('/',2)\n",
        "    if vid not in video_keyframe_dict.keys():\n",
        "        video_keyframe_dict[vid] = [kf]\n",
        "    else:\n",
        "        video_keyframe_dict[vid].append(kf)"
      ]
    },
    {
      "cell_type": "code",
      "execution_count": null,
      "id": "4b0fad7a",
      "metadata": {
        "id": "4b0fad7a"
      },
      "outputs": [],
      "source": [
        "for k,v in video_keyframe_dict.items():\n",
        "    video_keyframe_dict[k] = sorted(v)"
      ]
    },
    {
      "cell_type": "code",
      "execution_count": null,
      "id": "1ad16b5c",
      "metadata": {
        "id": "1ad16b5c"
      },
      "outputs": [],
      "source": [
        "for sample in dataset:\n",
        "    object_path = '/gdrive/MyDrive/AI-HCM/CLIP_features/CLIPFeatures_S_C00_V00/{}.npy'.format(sample['filepath'][-20:-4])\n",
        "    clip_embedding = np.load(object_path)\n",
        "    sample['clip_embedding'] = clip_embedding\n",
        "    sample.save()\n"
      ]
    },
    {
      "cell_type": "code",
      "execution_count": null,
      "id": "3751b526",
      "metadata": {
        "id": "3751b526"
      },
      "outputs": [],
      "source": [
        "model, preprocess = clip.load(\"ViT-B/16\", device=\"cpu\")\n",
        "model.eval()\n",
        "input_resolution = model.visual.input_resolution\n",
        "context_length = model.context_length\n",
        "vocab_size = model.vocab_size"
      ]
    },
    {
      "cell_type": "code",
      "execution_count": null,
      "id": "d284fa06",
      "metadata": {
        "id": "d284fa06"
      },
      "outputs": [],
      "source": [
        "text_search = \"A female is drawing a landscape picture\""
      ]
    },
    {
      "cell_type": "code",
      "execution_count": null,
      "id": "c82dc754",
      "metadata": {
        "id": "c82dc754"
      },
      "outputs": [],
      "source": [
        "text_tokens = clip.tokenize([text_search])"
      ]
    },
    {
      "cell_type": "code",
      "execution_count": null,
      "id": "ff011b70",
      "metadata": {
        "id": "ff011b70"
      },
      "outputs": [],
      "source": [
        "with torch.no_grad():\n",
        "    text_features = model.encode_text(text_tokens).float()"
      ]
    },
    {
      "cell_type": "code",
      "execution_count": null,
      "id": "854f161a",
      "metadata": {
        "id": "854f161a"
      },
      "outputs": [],
      "source": [
        "for sample in dataset:\n",
        "    a = sample['clip_embedding']\n",
        "    query_similarity = (text_features @ a.reshape(1,512).T).cpu().numpy().item()\n",
        "    sample['text_query_similarity'] = query_similarity\n",
        "    sample.save()\n",
        "    "
      ]
    },
    {
      "cell_type": "code",
      "execution_count": null,
      "id": "35b4ec60",
      "metadata": {
        "id": "35b4ec60"
      },
      "outputs": [],
      "source": [
        "session.show()"
      ]
    }
  ],
  "metadata": {
    "kernelspec": {
      "display_name": "Python 3 (ipykernel)",
      "language": "python",
      "name": "python3"
    },
    "language_info": {
      "codemirror_mode": {
        "name": "ipython",
        "version": 3
      },
      "file_extension": ".py",
      "mimetype": "text/x-python",
      "name": "python",
      "nbconvert_exporter": "python",
      "pygments_lexer": "ipython3",
      "version": "3.8.13"
    },
    "colab": {
      "provenance": [],
      "collapsed_sections": []
    }
  },
  "nbformat": 4,
  "nbformat_minor": 5
}